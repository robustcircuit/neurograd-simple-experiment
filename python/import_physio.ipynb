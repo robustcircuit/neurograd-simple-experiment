{
 "cells": [
  {
   "cell_type": "code",
   "execution_count": 3,
   "id": "c7a5dd82",
   "metadata": {},
   "outputs": [
    {
     "data": {
      "text/plain": [
       "True"
      ]
     },
     "execution_count": 3,
     "metadata": {},
     "output_type": "execute_result"
    }
   ],
   "source": [
    "import pandas as pd\n",
    "import os\n",
    "import seaborn as sns\n",
    "# load environment variables from the server directory\n",
    "from dotenv import load_dotenv\n",
    "load_dotenv()  # take environment variables"
   ]
  },
  {
   "cell_type": "code",
   "execution_count": null,
   "id": "4dfade6b",
   "metadata": {},
   "outputs": [],
   "source": [
    "# settings for the importation\n",
    "# it is a good practice to create a dictionary to keep all settings in one place and then save it alongside the data\n",
    "# \"metadata\" of the analysis\n",
    "settings={\n",
    "    \"mainDir\": \"../server/logfiles/\",\n",
    "    \"subjectDirs\": ['expPhysio_romain_pretest4'],\n",
    "    \"gsrExt\": \"_gsr.csv\",\n",
    "    \"trialsExt\": \"_trials.json\"\n",
    "}"
   ]
  },
  {
   "cell_type": "code",
   "execution_count": null,
   "id": "b65aa6af",
   "metadata": {},
   "outputs": [],
   "source": [
    "for subjDir in settings[\"subjectDirs\"]:\n",
    "    df_gsr=pd.read_csv(os.path.join(settings[\"mainDir\"],subjDir,subjDir+settings[\"gsrExt\"]))\n",
    "    df_gsr=pd.read_csv(os.path.join(settings[\"mainDir\"],subjDir,subjDir+settings[\"gsrExt\"]))"
   ]
  }
 ],
 "metadata": {
  "kernelspec": {
   "display_name": "neurograd-env",
   "language": "python",
   "name": "python3"
  },
  "language_info": {
   "codemirror_mode": {
    "name": "ipython",
    "version": 3
   },
   "file_extension": ".py",
   "mimetype": "text/x-python",
   "name": "python",
   "nbconvert_exporter": "python",
   "pygments_lexer": "ipython3",
   "version": "3.10.18"
  }
 },
 "nbformat": 4,
 "nbformat_minor": 5
}
